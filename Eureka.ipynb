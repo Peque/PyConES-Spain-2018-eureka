{
 "cells": [
  {
   "cell_type": "code",
   "execution_count": null,
   "metadata": {},
   "outputs": [],
   "source": [
    "%matplotlib inline"
   ]
  },
  {
   "cell_type": "code",
   "execution_count": null,
   "metadata": {},
   "outputs": [],
   "source": [
    "from matplotlib import pyplot\n",
    "\n",
    "\n",
    "pyplot.style.use('seaborn')"
   ]
  },
  {
   "cell_type": "markdown",
   "metadata": {},
   "source": [
    "# Eureka!"
   ]
  },
  {
   "cell_type": "markdown",
   "metadata": {},
   "source": [
    "## Why Eureka?"
   ]
  },
  {
   "cell_type": "markdown",
   "metadata": {},
   "source": [
    "## Inspiration"
   ]
  },
  {
   "cell_type": "code",
   "execution_count": null,
   "metadata": {},
   "outputs": [],
   "source": [
    "from IPython.display import Image\n",
    "from IPython.display import SVG\n",
    "\n",
    "\n",
    "Image(url='images/img_1153.jpg')"
   ]
  },
  {
   "cell_type": "markdown",
   "metadata": {},
   "source": [
    "## Constant translational acceleration in a straight line"
   ]
  },
  {
   "cell_type": "markdown",
   "metadata": {},
   "source": [
    "Acceleration is defined as the rate of change of velocity:\n",
    "\n",
    "$$a = \\frac{\\mathrm{d}v}{\\mathrm{d}t}$$\n",
    "\n",
    "Velocity (speed) is the rate of change of position:\n",
    "\n",
    "$$v = \\frac{\\mathrm{d}x}{\\mathrm{d}t}$$"
   ]
  },
  {
   "cell_type": "code",
   "execution_count": null,
   "metadata": {},
   "outputs": [],
   "source": [
    "import sympy\n",
    "from sympy import symbols, Eq, Integral, solve\n",
    "from sympy.plotting import plot, plot_parametric, plot_implicit\n",
    "\n",
    "\n",
    "sympy.init_printing()"
   ]
  },
  {
   "cell_type": "code",
   "execution_count": null,
   "metadata": {},
   "outputs": [],
   "source": [
    "a, x, x0, v, v0, t, t0 = symbols('a x x_0 v v_0 t t_0')"
   ]
  },
  {
   "cell_type": "code",
   "execution_count": null,
   "metadata": {},
   "outputs": [],
   "source": [
    "left = Integral(a, (t, 0, t))\n",
    "right = Integral(1, (v, v0, v))\n",
    "equation = Eq(left, right)\n",
    "equation"
   ]
  },
  {
   "cell_type": "code",
   "execution_count": null,
   "metadata": {},
   "outputs": [],
   "source": [
    "equation = equation.doit()\n",
    "equation"
   ]
  },
  {
   "cell_type": "code",
   "execution_count": null,
   "metadata": {},
   "outputs": [],
   "source": [
    "v = solve(equation, v)[0]\n",
    "v"
   ]
  },
  {
   "cell_type": "code",
   "execution_count": null,
   "metadata": {
    "scrolled": true
   },
   "outputs": [],
   "source": [
    "left = Integral(v, (t, 0, t))\n",
    "right = Integral(1, (x, x0, x))\n",
    "equation = Eq(left, right)\n",
    "equation"
   ]
  },
  {
   "cell_type": "code",
   "execution_count": null,
   "metadata": {
    "scrolled": true
   },
   "outputs": [],
   "source": [
    "equation = equation.doit()\n",
    "equation"
   ]
  },
  {
   "cell_type": "code",
   "execution_count": null,
   "metadata": {
    "scrolled": true
   },
   "outputs": [],
   "source": [
    "solutions = solve(equation, t)\n",
    "solutions"
   ]
  },
  {
   "cell_type": "markdown",
   "metadata": {},
   "source": [
    "### Setting initial conditions and acceleration"
   ]
  },
  {
   "cell_type": "code",
   "execution_count": null,
   "metadata": {},
   "outputs": [],
   "source": [
    "s0 = solutions[0].subs({'v_0': 0, 'x_0': 0, 'a': 9.8})\n",
    "s0"
   ]
  },
  {
   "cell_type": "code",
   "execution_count": null,
   "metadata": {},
   "outputs": [],
   "source": [
    "s1 = solutions[1].subs({'v_0': 0, 'x_0': 0, 'a': 9.8})\n",
    "s1"
   ]
  },
  {
   "cell_type": "code",
   "execution_count": null,
   "metadata": {},
   "outputs": [],
   "source": [
    "plot(s0, (x, 0, 10), title='Fall duration',\n",
    "     xlabel='Distance (m)', ylabel='Time (s)')"
   ]
  },
  {
   "cell_type": "code",
   "execution_count": null,
   "metadata": {},
   "outputs": [],
   "source": [
    "s0.subs('x', 13).evalf()"
   ]
  },
  {
   "cell_type": "markdown",
   "metadata": {},
   "source": [
    "# Experiment"
   ]
  },
  {
   "cell_type": "markdown",
   "metadata": {},
   "source": [
    "## Environment"
   ]
  },
  {
   "cell_type": "code",
   "execution_count": null,
   "metadata": {},
   "outputs": [],
   "source": [
    "Image(url='images/experiment_rule.jpg', width=300)"
   ]
  },
  {
   "cell_type": "code",
   "execution_count": null,
   "metadata": {},
   "outputs": [],
   "source": [
    "Image(url='images/experiment_height.jpg', width=300)"
   ]
  },
  {
   "cell_type": "markdown",
   "metadata": {},
   "source": [
    "## Audio analysis"
   ]
  },
  {
   "cell_type": "code",
   "execution_count": null,
   "metadata": {},
   "outputs": [],
   "source": [
    "import os\n",
    "\n",
    "import numpy\n",
    "from scipy.signal import resample\n",
    "from scipy.io import wavfile\n",
    "from bokeh.plotting import figure, show\n",
    "\n",
    "from bokeh.io import output_notebook\n",
    "\n",
    "\n",
    "output_notebook()"
   ]
  },
  {
   "cell_type": "code",
   "execution_count": null,
   "metadata": {
    "scrolled": true
   },
   "outputs": [],
   "source": [
    "wav = wavfile.read('data/gravity_audio/180.wav')\n",
    "print(wav)"
   ]
  },
  {
   "cell_type": "code",
   "execution_count": null,
   "metadata": {},
   "outputs": [],
   "source": [
    "from pathlib import Path\n",
    "\n",
    "\n",
    "data_path = Path('data/gravity_audio')\n",
    "samples = [wavfile.read(fname)[1]\n",
    "           for fname in sorted(data_path.glob('*.wav'))]"
   ]
  },
  {
   "cell_type": "code",
   "execution_count": null,
   "metadata": {},
   "outputs": [],
   "source": [
    "def plot_audio(data):\n",
    "    f = figure(width=800, height=400,\n",
    "               title='WAV file plot',\n",
    "               x_axis_label='Time (s)',\n",
    "               y_axis_label='Amplitude')\n",
    "    f.line(x=numpy.arange(len(data)) / len(data), y=numpy.array(data))\n",
    "    show(f)"
   ]
  },
  {
   "cell_type": "code",
   "execution_count": null,
   "metadata": {
    "scrolled": false
   },
   "outputs": [],
   "source": [
    "plot_audio(samples[0])"
   ]
  },
  {
   "cell_type": "code",
   "execution_count": null,
   "metadata": {},
   "outputs": [],
   "source": [
    "plot_audio(samples[-1])"
   ]
  },
  {
   "cell_type": "markdown",
   "metadata": {},
   "source": [
    "## Convolution"
   ]
  },
  {
   "cell_type": "code",
   "execution_count": null,
   "metadata": {},
   "outputs": [],
   "source": [
    "window = int(0.02 * len(samples[-1]))"
   ]
  },
  {
   "cell_type": "code",
   "execution_count": null,
   "metadata": {},
   "outputs": [],
   "source": [
    "def convolution(data, window):\n",
    "    filtered = [0] * len(data)\n",
    "    for i in range(window - 1, len(data)):\n",
    "        for j in range(window):\n",
    "            filtered[i] = max(filtered[i], abs(data[i - j]))\n",
    "    return filtered"
   ]
  },
  {
   "cell_type": "code",
   "execution_count": null,
   "metadata": {},
   "outputs": [],
   "source": [
    "%time filtered = convolution(samples[-1], window)"
   ]
  },
  {
   "cell_type": "code",
   "execution_count": null,
   "metadata": {},
   "outputs": [],
   "source": [
    "plot_audio(filtered)"
   ]
  },
  {
   "cell_type": "markdown",
   "metadata": {},
   "source": [
    "### Optimization"
   ]
  },
  {
   "cell_type": "code",
   "execution_count": null,
   "metadata": {},
   "outputs": [],
   "source": [
    "# Numba\n",
    "import numba\n",
    "\n",
    "\n",
    "@numba.jit\n",
    "def convolution_numba(data, window):\n",
    "    filtered = [0] * len(data)\n",
    "    for i in range(window - 1, len(data)):\n",
    "        for j in range(window):\n",
    "            filtered[i] = max(filtered[i], abs(data[i - j]))\n",
    "    return filtered\n",
    "\n",
    "\n",
    "%timeit convolution_numba(samples[-1], window)"
   ]
  },
  {
   "cell_type": "code",
   "execution_count": null,
   "metadata": {},
   "outputs": [],
   "source": [
    "Image(url='images/jurassic.gif', width=600)"
   ]
  },
  {
   "cell_type": "code",
   "execution_count": null,
   "metadata": {
    "scrolled": false
   },
   "outputs": [],
   "source": [
    "filtered_numba = convolution_numba(samples[-1], window)\n",
    "plot_audio(filtered_numba)"
   ]
  },
  {
   "cell_type": "code",
   "execution_count": null,
   "metadata": {},
   "outputs": [],
   "source": [
    "filtered == filtered_numba"
   ]
  },
  {
   "cell_type": "code",
   "execution_count": null,
   "metadata": {},
   "outputs": [],
   "source": [
    "@numba.jit\n",
    "def convolution_optimized(data, window):\n",
    "    filtered = numpy.zeros(len(data))\n",
    "    abs_data = numpy.abs(data)\n",
    "    for i in range(window, len(data)):\n",
    "        filtered[i] = abs_data[i - window:i].max()\n",
    "    return filtered\n",
    "\n",
    "\n",
    "%timeit convolution_optimized(samples[-1], window)"
   ]
  },
  {
   "cell_type": "code",
   "execution_count": null,
   "metadata": {},
   "outputs": [],
   "source": [
    "Image(url='images/obama.gif', width=600)"
   ]
  },
  {
   "cell_type": "code",
   "execution_count": null,
   "metadata": {
    "scrolled": false
   },
   "outputs": [],
   "source": [
    "filtered_optimized = convolution_optimized(samples[-1], window)\n",
    "plot_audio(filtered_optimized)"
   ]
  },
  {
   "cell_type": "code",
   "execution_count": null,
   "metadata": {
    "scrolled": true
   },
   "outputs": [],
   "source": [
    "import pandas\n",
    "\n",
    "s = pandas.Series(samples[-1])\n",
    "%timeit s.abs().rolling(window).max()"
   ]
  },
  {
   "cell_type": "code",
   "execution_count": null,
   "metadata": {
    "scrolled": false
   },
   "outputs": [],
   "source": [
    "plot_audio(s.abs().rolling(window).max())"
   ]
  },
  {
   "cell_type": "markdown",
   "metadata": {},
   "source": [
    "## Edge detection"
   ]
  },
  {
   "cell_type": "code",
   "execution_count": null,
   "metadata": {},
   "outputs": [],
   "source": [
    "@numba.jit\n",
    "def edge_detect(data, threshold=30000):\n",
    "    filtered = numpy.zeros(len(data))\n",
    "    N = int(0.02 * len(data))\n",
    "    for i in range(N - 1, len(data)):\n",
    "        if data[i] <= threshold:\n",
    "            continue\n",
    "        filtered[i] = 1.\n",
    "        for j in range(N - 1):\n",
    "            if data[i - j - 1] > threshold:\n",
    "                filtered[i] = 0.\n",
    "                break\n",
    "    return filtered"
   ]
  },
  {
   "cell_type": "code",
   "execution_count": null,
   "metadata": {
    "scrolled": true
   },
   "outputs": [],
   "source": [
    "edge = edge_detect(filtered_optimized)\n",
    "edge.sum()"
   ]
  },
  {
   "cell_type": "code",
   "execution_count": null,
   "metadata": {},
   "outputs": [],
   "source": [
    "plot_audio(edge)"
   ]
  },
  {
   "cell_type": "code",
   "execution_count": null,
   "metadata": {},
   "outputs": [],
   "source": [
    "def edge_time_diff(edge):\n",
    "    itemindex = numpy.where(edge==1)\n",
    "    return (itemindex[0][1] - itemindex[0][0]) / 44100\n",
    "\n",
    "\n",
    "time_diff = edge_time_diff(edge)\n",
    "time_diff"
   ]
  },
  {
   "cell_type": "markdown",
   "metadata": {},
   "source": [
    "## Time"
   ]
  },
  {
   "cell_type": "code",
   "execution_count": null,
   "metadata": {},
   "outputs": [],
   "source": [
    "times = [0]\n",
    "for data in samples:\n",
    "    filtered = convolution_optimized(data, window)\n",
    "    edge = edge_detect(filtered)\n",
    "    time_diff = edge_time_diff(edge)\n",
    "    times.append(time_diff)\n",
    "times = numpy.array(times)"
   ]
  },
  {
   "cell_type": "code",
   "execution_count": null,
   "metadata": {},
   "outputs": [],
   "source": [
    "distances = numpy.arange(len(times)) * 0.05\n",
    "g_estimations = (2 * distances) / (times ** 2)\n",
    "\n",
    "g_estimated = g_estimations[1:].mean()\n",
    "error = (9.8 - g_estimated) / 9.8\n",
    "\n",
    "g_estimated, error"
   ]
  },
  {
   "cell_type": "code",
   "execution_count": null,
   "metadata": {
    "scrolled": false
   },
   "outputs": [],
   "source": [
    "names = ['Theoretical', 'Measured']\n",
    "f = figure(y_range=names, width=800, height=200,\n",
    "           x_axis_label='Acceleration (m/s²)', title='G estimation')\n",
    "f.hbar(y=names, height=0.8, right=[9.8, g_estimated])\n",
    "show(f)"
   ]
  },
  {
   "cell_type": "code",
   "execution_count": null,
   "metadata": {
    "scrolled": false
   },
   "outputs": [],
   "source": [
    "real_times = [numpy.sqrt((2 * 0.05 * i) / 9.8) for i in range(len(times))]\n",
    "\n",
    "\n",
    "f = figure(width=800, height=400,\n",
    "           title='Theoretical versus measured time',\n",
    "           x_axis_label='Distance (m)',\n",
    "           y_axis_label='Time (s)')\n",
    "f.circle(distances, times, fill_color=None, color='red', legend='Measured')\n",
    "f.circle(distances, real_times, fill_color=None, legend='Theoretical')\n",
    "f.legend.location = 'bottom_right'\n",
    "show(f)"
   ]
  },
  {
   "cell_type": "markdown",
   "metadata": {},
   "source": [
    "We can calculate the maximum absolute error in the time measure (in seconds):"
   ]
  },
  {
   "cell_type": "code",
   "execution_count": null,
   "metadata": {},
   "outputs": [],
   "source": [
    "numpy.abs(real_times - times).max()"
   ]
  },
  {
   "cell_type": "code",
   "execution_count": null,
   "metadata": {},
   "outputs": [],
   "source": [
    "error = times - real_times\n",
    "\n",
    "f = figure(width=800, height=400,\n",
    "           title='Measured time error',\n",
    "           x_axis_label='Distance(m)',\n",
    "           y_axis_label='Error (ms)')\n",
    "f.line(distances, error)\n",
    "show(f)"
   ]
  },
  {
   "cell_type": "markdown",
   "metadata": {},
   "source": [
    "# Linear regression"
   ]
  },
  {
   "cell_type": "markdown",
   "metadata": {},
   "source": [
    "$$f(x) = a x + b$$"
   ]
  },
  {
   "cell_type": "code",
   "execution_count": null,
   "metadata": {},
   "outputs": [],
   "source": [
    "x = symbols('x')\n",
    "line = 1 * x + 0\n",
    "plot(line, title='Line plot', xlabel='x', ylabel='f(x)')"
   ]
  },
  {
   "cell_type": "code",
   "execution_count": null,
   "metadata": {},
   "outputs": [],
   "source": [
    "from sympy.utilities.lambdify import lambdify\n",
    "\n",
    "\n",
    "model = lambdify(x, line, 'numpy')\n",
    "model(distances)"
   ]
  },
  {
   "cell_type": "code",
   "execution_count": null,
   "metadata": {},
   "outputs": [],
   "source": [
    "f = figure(width=800, height=400,\n",
    "           title='Model approximation',\n",
    "           x_axis_label='Distance (m)',\n",
    "           y_axis_label='Time (s)')\n",
    "f.circle(distances, times, fill_color=None, color='red', legend='Measured')\n",
    "f.line(distances, model(distances), legend='Model')\n",
    "f.legend.location = 'bottom_right'\n",
    "show(f)"
   ]
  },
  {
   "cell_type": "markdown",
   "metadata": {},
   "source": [
    "A popular way to measure the error of our model is the residual sum of squares:\n",
    "\n",
    "$$RSS = \\sum_{i=1}^{n}{(y_i - \\hat{y}_i)^2}$$"
   ]
  },
  {
   "cell_type": "code",
   "execution_count": null,
   "metadata": {},
   "outputs": [],
   "source": [
    "def rss(y, y_hat):\n",
    "    return numpy.sum((y - y_hat) ** 2)\n",
    "\n",
    "\n",
    "rss(times, model(distances))"
   ]
  },
  {
   "cell_type": "markdown",
   "metadata": {},
   "source": [
    "## The minimization/maximization problem"
   ]
  },
  {
   "cell_type": "code",
   "execution_count": null,
   "metadata": {},
   "outputs": [],
   "source": [
    "SVG('images/min-max-problem.svg')"
   ]
  },
  {
   "cell_type": "code",
   "execution_count": null,
   "metadata": {},
   "outputs": [],
   "source": [
    "@numpy.vectorize\n",
    "def model_rss(a, b):\n",
    "    y_hat = a * distances + b\n",
    "    return rss(times, y_hat)\n",
    "\n",
    "\n",
    "a = numpy.linspace(0, 1, 50)\n",
    "b = numpy.linspace(0, 1, 50)\n",
    "agrid, bgrid = numpy.meshgrid(a, b)\n",
    "\n",
    "errors = model_rss(agrid, bgrid)"
   ]
  },
  {
   "cell_type": "code",
   "execution_count": null,
   "metadata": {},
   "outputs": [],
   "source": [
    "import plotly\n",
    "import plotly.graph_objs as go\n",
    "from plotly.offline import init_notebook_mode\n",
    "\n",
    "import numpy as np\n",
    "\n",
    "\n",
    "init_notebook_mode(connected=True)\n",
    "\n",
    "surface = go.Surface(x=a, y=b, z=errors, colorscale='Viridis')\n",
    "data = [surface]\n",
    "\n",
    "layout = go.Layout(\n",
    "    title='RSS curve',\n",
    "    scene=dict(\n",
    "        xaxis=dict(\n",
    "            title='x == a',\n",
    "            gridcolor='rgb(255, 255, 255)',\n",
    "            zerolinecolor='rgb(255, 255, 255)',\n",
    "            showbackground=True,\n",
    "            backgroundcolor='rgb(230, 230,230)'\n",
    "        ),\n",
    "        yaxis=dict(\n",
    "            title='y == b',\n",
    "            gridcolor='rgb(255, 255, 255)',\n",
    "            zerolinecolor='rgb(255, 255, 255)',\n",
    "            showbackground=True,\n",
    "            backgroundcolor='rgb(230, 230,230)'\n",
    "        ),\n",
    "        zaxis=dict(\n",
    "            title='z == rss',\n",
    "            gridcolor='rgb(255, 255, 255)',\n",
    "            zerolinecolor='rgb(255, 255, 255)',\n",
    "            showbackground=True,\n",
    "            backgroundcolor='rgb(230, 230,230)'\n",
    "        )\n",
    "    )\n",
    ")\n",
    "\n",
    "fig = go.Figure(data=data, layout=layout)\n",
    "plotly.offline.iplot(fig, filename='RSS curve', show_link=False)"
   ]
  },
  {
   "cell_type": "markdown",
   "metadata": {},
   "source": [
    "The linear regression problem has a closed-form solution, but it involves calculating the inverse of a matrix, which is an operation with complexity $\\mathcal{O}(n^{3})$ or at most $\\mathcal{O}(n^{2.373})$."
   ]
  },
  {
   "cell_type": "markdown",
   "metadata": {},
   "source": [
    "## Gradient descent"
   ]
  },
  {
   "cell_type": "code",
   "execution_count": null,
   "metadata": {},
   "outputs": [],
   "source": [
    "x = symbols('x')\n",
    "\n",
    "parabola = x ** 2\n",
    "plot(parabola, title='Parabola equation')"
   ]
  },
  {
   "cell_type": "code",
   "execution_count": null,
   "metadata": {},
   "outputs": [],
   "source": [
    "from sympy import diff\n",
    "\n",
    "\n",
    "diff_parabola = diff(parabola, x)\n",
    "plot(diff_parabola, title='Parabola differentiation')"
   ]
  },
  {
   "cell_type": "markdown",
   "metadata": {},
   "source": [
    "For convex functions optimum occurs when:\n",
    "\n",
    "$$\n",
    "\\frac{\\mathrm{d}f(x)}{\\mathrm{d}x} = 0\n",
    "$$\n",
    "\n",
    "So we can converge step by step with:\n",
    "\n",
    "$$\n",
    "x^{t + 1} = x - \\eta \\frac{\\mathrm{d}f(x)}{\\mathrm{d}x}\n",
    "$$\n",
    "\n",
    "Stopping when:\n",
    "\n",
    "$$\n",
    "\\left| \\frac{\\mathrm{d}f(x)}{\\mathrm{d}x} \\right| < \\epsilon\n",
    "$$"
   ]
  },
  {
   "cell_type": "code",
   "execution_count": null,
   "metadata": {},
   "outputs": [],
   "source": [
    "steps = [-9]\n",
    "lr = 0.1\n",
    "\n",
    "for _ in range(30):\n",
    "    before = steps[-1]\n",
    "    after = before - lr * diff_parabola.subs({'x': before}).evalf()\n",
    "    steps.append(after)\n",
    "\n",
    "steps = numpy.array(steps, dtype='float64')\n",
    "\n",
    "xrange = numpy.linspace(-10, 10, 50)\n",
    "model = lambdify(x, parabola, 'numpy')\n",
    "\n",
    "f = figure(width=800, height=400, title='Gradient descent steps')\n",
    "f.circle(steps, model(steps), fill_color=None, color='red', legend='Steps', size=6)\n",
    "f.line(steps, model(steps), color='red', legend='Steps')\n",
    "f.line(xrange, model(xrange), legend='Model')\n",
    "f.legend.location = 'bottom_right'\n",
    "show(f)"
   ]
  },
  {
   "cell_type": "markdown",
   "metadata": {},
   "source": [
    "Sometimes:\n",
    "\n",
    "$$\\eta = \\eta(t) = \\frac{\\eta}{t}$$"
   ]
  },
  {
   "cell_type": "markdown",
   "metadata": {},
   "source": [
    "# Linear regression with scikit-learn"
   ]
  },
  {
   "cell_type": "markdown",
   "metadata": {},
   "source": [
    "Simple linear regression model to predict the time:\n",
    "\n",
    "$$f(x) = a x + b$$"
   ]
  },
  {
   "cell_type": "code",
   "execution_count": null,
   "metadata": {
    "scrolled": true
   },
   "outputs": [],
   "source": [
    "numpy.random.seed(42)\n",
    "\n",
    "train_distances = distances[::3]\n",
    "train_times = times[::3] + numpy.random.randn(train_distances.size) * train_distances * 0.05\n",
    "\n",
    "df = pandas.DataFrame({'distances': train_distances, 'times': train_times})\n",
    "df.head()"
   ]
  },
  {
   "cell_type": "code",
   "execution_count": null,
   "metadata": {},
   "outputs": [],
   "source": [
    "f = figure(width=800, height=400,\n",
    "           title='Reduced set of measures',\n",
    "           x_axis_label='Distance (m)',\n",
    "           y_axis_label='Time (s)')\n",
    "f.circle(x=df['distances'], y=df['times'], fill_color=None, color='red', legend='Measured')\n",
    "f.legend.location = 'bottom_right'\n",
    "show(f)"
   ]
  },
  {
   "cell_type": "code",
   "execution_count": null,
   "metadata": {},
   "outputs": [],
   "source": [
    "from sklearn import datasets, linear_model"
   ]
  },
  {
   "cell_type": "code",
   "execution_count": null,
   "metadata": {},
   "outputs": [],
   "source": [
    "# Create linear regression object\n",
    "model = linear_model.LinearRegression()\n",
    "\n",
    "# Train the model using the training sets\n",
    "model.fit(df[['distances']], df['times'])\n",
    "print(model.intercept_, model.coef_)"
   ]
  },
  {
   "cell_type": "code",
   "execution_count": null,
   "metadata": {
    "scrolled": true
   },
   "outputs": [],
   "source": [
    "predictions = model.predict(df[['distances']])\n",
    "predictions"
   ]
  },
  {
   "cell_type": "code",
   "execution_count": null,
   "metadata": {
    "code_folding": []
   },
   "outputs": [],
   "source": [
    "f = figure(width=800, height=400,\n",
    "           title='Model approximation',\n",
    "           x_axis_label='Distance (m)',\n",
    "           y_axis_label='Time (s)')\n",
    "f.circle(x=df['distances'], y=df['times'], fill_color=None, color='red', legend='Measured')\n",
    "f.line(x=df['distances'], y=predictions, legend='Model')\n",
    "f.legend.location = 'bottom_right'\n",
    "show(f)"
   ]
  },
  {
   "cell_type": "code",
   "execution_count": null,
   "metadata": {},
   "outputs": [],
   "source": [
    "error = rss(predictions, df['times'])\n",
    "t_prediction = model.predict(numpy.array(13).reshape(-1, 1))[0]\n",
    "t_real = s0.subs('x', 13).evalf()\n",
    "\n",
    "print('RSS: %.4g' % error)\n",
    "print('Time (pred): %.4g' % t_prediction)\n",
    "print('Time (real): %.4g' % t_real)\n",
    "print('Error: %.4g' % (t_prediction - t_real))"
   ]
  },
  {
   "cell_type": "code",
   "execution_count": null,
   "metadata": {
    "scrolled": true
   },
   "outputs": [],
   "source": [
    "model.predict(numpy.array(13).reshape(-1, 1))"
   ]
  },
  {
   "cell_type": "code",
   "execution_count": null,
   "metadata": {
    "scrolled": true
   },
   "outputs": [],
   "source": [
    "model.intercept_ + model.coef_ * 13."
   ]
  },
  {
   "cell_type": "markdown",
   "metadata": {},
   "source": [
    "## Linear regression (new features)"
   ]
  },
  {
   "cell_type": "markdown",
   "metadata": {},
   "source": [
    "A new linear regression model using a transformation of the input:\n",
    "\n",
    "$$f(h(x)) = a h(x) + b$$"
   ]
  },
  {
   "cell_type": "code",
   "execution_count": null,
   "metadata": {
    "scrolled": true
   },
   "outputs": [],
   "source": [
    "df['sqrt_distances'] = numpy.sqrt(df['distances'])\n",
    "df = df[['sqrt_distances', 'distances', 'times']]\n",
    "df.head()"
   ]
  },
  {
   "cell_type": "code",
   "execution_count": null,
   "metadata": {
    "scrolled": false
   },
   "outputs": [],
   "source": [
    "# Create linear regression object\n",
    "model = linear_model.LinearRegression()\n",
    "\n",
    "# Train the model using the training sets\n",
    "model.fit(df[['sqrt_distances']], df['times'])\n",
    "\n",
    "linspace = numpy.linspace(0, 2., 100).reshape(-1, 1)\n",
    "predictions = model.predict(linspace ** 0.5)"
   ]
  },
  {
   "cell_type": "code",
   "execution_count": null,
   "metadata": {},
   "outputs": [],
   "source": [
    "f = figure(width=800, height=400,\n",
    "           title='Model approximation',\n",
    "           x_axis_label='Distance (m)',\n",
    "           y_axis_label='Time (s)')\n",
    "f.circle(x=df['distances'], y=df['times'], fill_color=None, color='red', legend='Measured')\n",
    "f.line(x=linspace.T[0], y=predictions.T, legend='Model')\n",
    "f.legend.location = 'bottom_right'\n",
    "show(f)"
   ]
  },
  {
   "cell_type": "code",
   "execution_count": null,
   "metadata": {},
   "outputs": [],
   "source": [
    "error = rss(model.predict(df[['sqrt_distances']]), df['times'])\n",
    "t_prediction = model.predict(numpy.array(13).reshape(-1, 1))[0]\n",
    "t_real = s0.subs('x', 13).evalf()\n",
    "\n",
    "print('RSS: %.4g' % error)\n",
    "print('Time (pred): %.4g' % t_prediction)\n",
    "print('Time (real): %.4g' % t_real)\n",
    "print('Error: %.4g' % (t_prediction - t_real))"
   ]
  },
  {
   "cell_type": "code",
   "execution_count": null,
   "metadata": {},
   "outputs": [],
   "source": [
    "model.intercept_ + model.coef_ * 13. ** 0.5"
   ]
  },
  {
   "cell_type": "markdown",
   "metadata": {},
   "source": [
    "## Another transformation: normalization"
   ]
  },
  {
   "cell_type": "markdown",
   "metadata": {},
   "source": [
    "## Linear regression (multiple features)"
   ]
  },
  {
   "cell_type": "markdown",
   "metadata": {},
   "source": [
    "Linear regression model with multiple features:\n",
    "\n",
    "$$f(x) = w_0 + w_1 x_1 + w_2 x_2$$"
   ]
  },
  {
   "cell_type": "code",
   "execution_count": null,
   "metadata": {
    "scrolled": true
   },
   "outputs": [],
   "source": [
    "# Create linear regression object\n",
    "model = linear_model.LinearRegression()\n",
    "\n",
    "# Train the model using the training sets\n",
    "model.fit(df[['sqrt_distances', 'distances']], df['times'])\n",
    "\n",
    "linspace = numpy.linspace(0, 2., 100).reshape(-1, 1)\n",
    "predictions = model.predict(numpy.column_stack([linspace ** 0.5, linspace]))"
   ]
  },
  {
   "cell_type": "code",
   "execution_count": null,
   "metadata": {},
   "outputs": [],
   "source": [
    "f = figure(width=800, height=400,\n",
    "           title='Model approximation',\n",
    "           x_axis_label='Distance (m)',\n",
    "           y_axis_label='Time (s)')\n",
    "f.circle(x=df['distances'], y=df['times'], fill_color=None, color='red', legend='Measured')\n",
    "f.line(x=linspace.T[0], y=predictions.T, legend='Model')\n",
    "f.legend.location = 'bottom_right'\n",
    "show(f)"
   ]
  },
  {
   "cell_type": "code",
   "execution_count": null,
   "metadata": {},
   "outputs": [],
   "source": [
    "print(model.intercept_, model.coef_)"
   ]
  },
  {
   "cell_type": "code",
   "execution_count": null,
   "metadata": {
    "scrolled": true
   },
   "outputs": [],
   "source": [
    "error = rss(model.predict(df[['sqrt_distances', 'distances']]), df['times'])\n",
    "t_prediction = model.predict(numpy.array([numpy.sqrt(13.), 13]).reshape(1, -1))[0]\n",
    "t_real = s0.subs('x', 13).evalf()\n",
    "\n",
    "print('RSS: %.4g' % error)\n",
    "print('Time (pred): %.4g' % t_prediction)\n",
    "print('Time (real): %.4g' % t_real)\n",
    "print('Error: %.4g' % (t_prediction - t_real))"
   ]
  },
  {
   "cell_type": "code",
   "execution_count": null,
   "metadata": {},
   "outputs": [],
   "source": [
    "model.intercept_ + model.coef_[0] * numpy.sqrt(13.) + model.coef_[1] * 13."
   ]
  },
  {
   "cell_type": "markdown",
   "metadata": {},
   "source": [
    "## Linear regression (many features)"
   ]
  },
  {
   "cell_type": "markdown",
   "metadata": {},
   "source": [
    "Linear regression model with many features:\n",
    "\n",
    "$$f(x) = w_0 + w_1 x_1 + w_2 x_2 + ... + w_N x_N$$"
   ]
  },
  {
   "cell_type": "code",
   "execution_count": null,
   "metadata": {},
   "outputs": [],
   "source": [
    "Image('images/machine_learning.png')"
   ]
  },
  {
   "cell_type": "code",
   "execution_count": null,
   "metadata": {
    "scrolled": false
   },
   "outputs": [],
   "source": [
    "for i in range(2, 20):\n",
    "    df['distances_%02d' % i] = df['distances'] ** i\n",
    "df.drop('times', axis=1).head()"
   ]
  },
  {
   "cell_type": "code",
   "execution_count": null,
   "metadata": {},
   "outputs": [],
   "source": [
    "# Create linear regression object\n",
    "model = linear_model.LinearRegression()\n",
    "\n",
    "# Train the model using the training sets\n",
    "model.fit(df.drop('times', axis=1), df['times'])\n",
    "\n",
    "from sklearn.preprocessing import PolynomialFeatures\n",
    "linspace = numpy.linspace(0, 2., 100).reshape(-1, 1)\n",
    "poly = PolynomialFeatures(degree=19, include_bias=False).fit_transform(linspace)\n",
    "predictions = model.predict(numpy.column_stack([linspace ** 0.5, poly]))"
   ]
  },
  {
   "cell_type": "code",
   "execution_count": null,
   "metadata": {},
   "outputs": [],
   "source": [
    "error = rss(model.predict(df.drop('times', axis=1)), df['times'])\n",
    "\n",
    "print('RSS: %.4g' % error)"
   ]
  },
  {
   "cell_type": "code",
   "execution_count": null,
   "metadata": {},
   "outputs": [],
   "source": [
    "f = figure(width=800, height=400,\n",
    "           title='Model approximation',\n",
    "           x_axis_label='Distance (m)',\n",
    "           y_axis_label='Time (s)')\n",
    "f.circle(x=df['distances'], y=df['times'], fill_color=None, color='red', legend='Measured')\n",
    "f.line(x=linspace.T[0], y=predictions.T, legend='Model')\n",
    "show(f)"
   ]
  },
  {
   "cell_type": "code",
   "execution_count": null,
   "metadata": {},
   "outputs": [],
   "source": [
    "error = rss(model.predict(df.drop('times', axis=1)), df['times'])\n",
    "poly = PolynomialFeatures(degree=19, include_bias=False).fit_transform(numpy.array([13.]).reshape(-1, 1))\n",
    "t_prediction = model.predict(numpy.column_stack([numpy.array([13.]) ** 0.5, poly]))[0]\n",
    "t_real = s0.subs('x', 13).evalf()\n",
    "\n",
    "print('RSS: %.4g' % error)\n",
    "print('Time (pred): %.4g' % t_prediction)\n",
    "print('Time (real): %.4g' % t_real)\n",
    "print('Error: %.4g' % (t_prediction - t_real))"
   ]
  },
  {
   "cell_type": "markdown",
   "metadata": {},
   "source": [
    "# Regularization"
   ]
  },
  {
   "cell_type": "markdown",
   "metadata": {},
   "source": [
    "Regularization is about imposing a penalty on the size of coefficients, to address some of the problems of Ordinary Least Squares."
   ]
  },
  {
   "cell_type": "markdown",
   "metadata": {},
   "source": [
    "# Norms"
   ]
  },
  {
   "cell_type": "markdown",
   "metadata": {},
   "source": [
    "Norms are a way to measure the size of a vector."
   ]
  },
  {
   "cell_type": "markdown",
   "metadata": {},
   "source": [
    "### Euclidean norm"
   ]
  },
  {
   "cell_type": "markdown",
   "metadata": {},
   "source": [
    "A distance between 2 points can be calculated as:\n",
    "\n",
    "$$\n",
    "d(p, q) = \\sqrt{|q_1 - p_1|^2 + |q_2 - p_2|^2 + ... + |q_n - p_n|^2}\n",
    "$$"
   ]
  },
  {
   "cell_type": "code",
   "execution_count": null,
   "metadata": {},
   "outputs": [],
   "source": [
    "f = figure(width=400, height=400, match_aspect=True,\n",
    "           title='Reduced set of measures',\n",
    "           x_axis_label='x1',\n",
    "           y_axis_label='x2')\n",
    "f.circle(x=(1, 2), y=(3, 1), fill_color=None, color='red')\n",
    "f.line(x=(1, 2), y=(3, 1))\n",
    "show(f)"
   ]
  },
  {
   "cell_type": "code",
   "execution_count": null,
   "metadata": {},
   "outputs": [],
   "source": [
    "numpy.sqrt(abs(2 - 1) ** 2 + abs(1 - 3) ** 2)"
   ]
  },
  {
   "cell_type": "markdown",
   "metadata": {},
   "source": [
    "The norm is simply the distance between a point and the origin:\n",
    "\n",
    "$$\n",
    "\\left\\| p \\right\\|_2 = \\sqrt{|p_1|^2 + |p_2|^2 + ... + |p_n|^2}\n",
    "$$"
   ]
  },
  {
   "cell_type": "code",
   "execution_count": null,
   "metadata": {},
   "outputs": [],
   "source": [
    "f = figure(width=400, height=400, match_aspect=True,\n",
    "           title='Reduced set of measures',\n",
    "           x_axis_label='x1',\n",
    "           y_axis_label='x2')\n",
    "f.circle(x=(1, 2), y=(3, 1), fill_color=None, color='red')\n",
    "f.asterisk(x=0, y=0, fill_color=None, color='red', size=10)\n",
    "f.line(x=(0, 1), y=(0, 3))\n",
    "f.line(x=(0, 2), y=(0, 1))\n",
    "show(f)"
   ]
  },
  {
   "cell_type": "code",
   "execution_count": null,
   "metadata": {
    "scrolled": true
   },
   "outputs": [],
   "source": [
    "numpy.sqrt(1 ** 2 + 3 ** 2), numpy.sqrt(2 ** 2 + 1 ** 2)"
   ]
  },
  {
   "cell_type": "markdown",
   "metadata": {},
   "source": [
    "### Manhattan norm"
   ]
  },
  {
   "cell_type": "markdown",
   "metadata": {},
   "source": [
    "A distance between 2 points can also be calculated as:\n",
    "\n",
    "$$\n",
    "d(p, q) = |q_1 - p_1| + |q_2 - p_2| + ... + |q_n - p_n|\n",
    "$$"
   ]
  },
  {
   "cell_type": "code",
   "execution_count": null,
   "metadata": {
    "scrolled": false
   },
   "outputs": [],
   "source": [
    "f = figure(width=400, height=400, match_aspect=True,\n",
    "           title='Reduced set of measures',\n",
    "           x_axis_label='x1',\n",
    "           y_axis_label='x2')\n",
    "f.circle(x=(1, 2), y=(3, 1), fill_color=None, color='red')\n",
    "f.line(x=(1, 2), y=(1, 1))\n",
    "f.line(x=(1, 1), y=(1, 3))\n",
    "show(f)"
   ]
  },
  {
   "cell_type": "code",
   "execution_count": null,
   "metadata": {},
   "outputs": [],
   "source": [
    "abs(2 - 1) + abs(1 - 3)"
   ]
  },
  {
   "cell_type": "code",
   "execution_count": null,
   "metadata": {},
   "outputs": [],
   "source": [
    "f = figure(width=400, height=400, match_aspect=True,\n",
    "           title='Reduced set of measures',\n",
    "           x_axis_label='x1',\n",
    "           y_axis_label='x2')\n",
    "f.circle(x=(1, 2), y=(3, 1), fill_color=None, color='red')\n",
    "f.line(x=(2, 2), y=(1, 2))\n",
    "f.line(x=(2, 1), y=(2, 2))\n",
    "f.line(x=(1, 1), y=(2, 3))\n",
    "show(f)"
   ]
  },
  {
   "cell_type": "markdown",
   "metadata": {},
   "source": [
    "The norm is, again, the distance between a point and the origin:\n",
    "\n",
    "$$\n",
    "\\left\\| p \\right\\|_1 = |p_1| + |p_2| + ... + |p_n|\n",
    "$$"
   ]
  },
  {
   "cell_type": "code",
   "execution_count": null,
   "metadata": {},
   "outputs": [],
   "source": [
    "f = figure(width=400, height=400, match_aspect=True,\n",
    "           title='Reduced set of measures',\n",
    "           x_axis_label='x1',\n",
    "           y_axis_label='x2')\n",
    "f.circle(x=(1, 2), y=(3, 1), fill_color=None, color='red')\n",
    "f.asterisk(x=0, y=0, fill_color=None, color='red', size=10)\n",
    "f.line(x=(0, 2), y=(0, 0))\n",
    "f.line(x=(2, 2), y=(0, 1))\n",
    "f.line(x=(0, 0), y=(0, 3))\n",
    "f.line(x=(0, 1), y=(3, 3))\n",
    "show(f)"
   ]
  },
  {
   "cell_type": "markdown",
   "metadata": {},
   "source": [
    "## Ridge regression (L2 regularization) "
   ]
  },
  {
   "cell_type": "markdown",
   "metadata": {},
   "source": [
    "Later we used some:\n",
    "\n",
    "$$\\min_{w} \\left\\| y - \\hat{y} \\right\\| ^2_2 = \\min_{w} \\left\\| y - Xw \\right\\| ^2_2$$\n",
    "\n",
    "Now we will penalize higher parameters by taking into account the size of the $w$ vector:\n",
    "\n",
    "$$\n",
    "\\min_{w} \\left(\\left\\| y - Xw \\right\\| ^2_2 + \\alpha \\left\\|w\\right\\|^2_2\\right)\n",
    "$$"
   ]
  },
  {
   "cell_type": "code",
   "execution_count": null,
   "metadata": {},
   "outputs": [],
   "source": [
    "# Create linear regression object\n",
    "model = linear_model.Ridge(alpha=0.5, fit_intercept=False)\n",
    "\n",
    "# Train the model using the training sets\n",
    "model.fit(df.drop('times', axis=1), df['times'])\n",
    "print(model.intercept_, model.coef_)"
   ]
  },
  {
   "cell_type": "code",
   "execution_count": null,
   "metadata": {},
   "outputs": [],
   "source": [
    "linspace = numpy.linspace(0, 2., 100).reshape(-1, 1)\n",
    "poly = PolynomialFeatures(degree=19, include_bias=False).fit_transform(linspace)\n",
    "predictions = model.predict(numpy.column_stack([linspace ** 0.5, poly]))"
   ]
  },
  {
   "cell_type": "code",
   "execution_count": null,
   "metadata": {},
   "outputs": [],
   "source": [
    "f = figure(width=800, height=400,\n",
    "           title='Model approximation',\n",
    "           x_axis_label='Distance (m)',\n",
    "           y_axis_label='Time (s)')\n",
    "f.circle(x=df['distances'], y=df['times'], fill_color=None, color='red', legend='Measured')\n",
    "f.line(x=linspace.T[0], y=predictions.T, legend='Model')\n",
    "f.legend.location = 'bottom_right'\n",
    "show(f)"
   ]
  },
  {
   "cell_type": "code",
   "execution_count": null,
   "metadata": {},
   "outputs": [],
   "source": [
    "error = rss(model.predict(df.drop('times', axis=1)), df['times'])\n",
    "poly = PolynomialFeatures(degree=19, include_bias=False).fit_transform(numpy.array([13.]).reshape(-1, 1))\n",
    "t_prediction = model.predict(numpy.column_stack([numpy.array([13.]) ** 0.5, poly]))[0]\n",
    "t_real = s0.subs('x', 13).evalf()\n",
    "\n",
    "print('RSS: %.4g' % error)\n",
    "print('Time (pred): %.4g' % t_prediction)\n",
    "print('Time (real): %.4g' % t_real)\n",
    "print('Error: %.4g' % (t_prediction - t_real))"
   ]
  },
  {
   "cell_type": "markdown",
   "metadata": {},
   "source": [
    "## Lasso regression (L1 regularization)"
   ]
  },
  {
   "cell_type": "markdown",
   "metadata": {},
   "source": [
    "$$\n",
    "\\min_{w} \\left(\\left\\| y - Xw \\right\\| ^2_2 + \\alpha \\left\\|w\\right\\|^2_1\\right)\n",
    "$$"
   ]
  },
  {
   "cell_type": "code",
   "execution_count": null,
   "metadata": {},
   "outputs": [],
   "source": [
    "# Create linear regression object\n",
    "model = linear_model.Lasso(alpha=0.005, max_iter=1e7, fit_intercept=False)\n",
    "\n",
    "# Train the model using the training sets\n",
    "model.fit(df.drop('times', axis=1), df['times'])\n",
    "print(model.intercept_, model.coef_)"
   ]
  },
  {
   "cell_type": "code",
   "execution_count": null,
   "metadata": {},
   "outputs": [],
   "source": [
    "linspace = numpy.linspace(0, 2., 100).reshape(-1, 1)\n",
    "poly = PolynomialFeatures(degree=19, include_bias=False).fit_transform(linspace)\n",
    "predictions = model.predict(numpy.column_stack([linspace ** 0.5, poly]))"
   ]
  },
  {
   "cell_type": "code",
   "execution_count": null,
   "metadata": {
    "scrolled": false
   },
   "outputs": [],
   "source": [
    "f = figure(width=800, height=400,\n",
    "           title='Model approximation',\n",
    "           x_axis_label='Distance (m)',\n",
    "           y_axis_label='Time (s)')\n",
    "f.circle(x=df['distances'], y=df['times'], fill_color=None, color='red', legend='Measured')\n",
    "f.line(x=linspace.T[0], y=predictions.T, legend='Model')\n",
    "f.legend.location = 'bottom_right'\n",
    "show(f)"
   ]
  },
  {
   "cell_type": "code",
   "execution_count": null,
   "metadata": {},
   "outputs": [],
   "source": [
    "error = rss(model.predict(df.drop('times', axis=1)), df['times'])\n",
    "poly = PolynomialFeatures(degree=19, include_bias=False).fit_transform(numpy.array([13.]).reshape(-1, 1))\n",
    "t_prediction = model.predict(numpy.column_stack([numpy.array([13.]) ** 0.5, poly]))[0]\n",
    "t_real = s0.subs('x', 13).evalf()\n",
    "\n",
    "print('RSS: %.4g' % error)\n",
    "print('Time (pred): %.4g' % t_prediction)\n",
    "print('Time (real): %.4g' % t_real)\n",
    "print('Error: %.4g' % (t_prediction - t_real))"
   ]
  },
  {
   "cell_type": "markdown",
   "metadata": {},
   "source": [
    "## Ridge vs. Lasso (visualization)"
   ]
  },
  {
   "cell_type": "markdown",
   "metadata": {},
   "source": [
    "# Validation set"
   ]
  }
 ],
 "metadata": {
  "kernelspec": {
   "display_name": "Python 3",
   "language": "python",
   "name": "python3"
  },
  "language_info": {
   "codemirror_mode": {
    "name": "ipython",
    "version": 3
   },
   "file_extension": ".py",
   "mimetype": "text/x-python",
   "name": "python",
   "nbconvert_exporter": "python",
   "pygments_lexer": "ipython3",
   "version": "3.6.6"
  }
 },
 "nbformat": 4,
 "nbformat_minor": 1
}
